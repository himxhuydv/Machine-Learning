{
 "cells": [
  {
   "cell_type": "markdown",
   "id": "310f88a9",
   "metadata": {},
   "source": [
    "Feature scaling : "
   ]
  },
  {
   "cell_type": "code",
   "execution_count": null,
   "id": "d0be351b",
   "metadata": {
    "vscode": {
     "languageId": "plaintext"
    }
   },
   "outputs": [],
   "source": []
  }
 ],
 "metadata": {
  "language_info": {
   "name": "python"
  }
 },
 "nbformat": 4,
 "nbformat_minor": 5
}
