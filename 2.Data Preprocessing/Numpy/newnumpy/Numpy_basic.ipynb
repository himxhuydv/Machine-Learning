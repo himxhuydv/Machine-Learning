{
 "cells": [
  {
   "cell_type": "markdown",
   "id": "5b160590",
   "metadata": {},
   "source": [
    "numpy array and basic "
   ]
  },
  {
   "cell_type": "code",
   "execution_count": 2,
   "id": "e1c3fc32",
   "metadata": {},
   "outputs": [
    {
     "name": "stdout",
     "output_type": "stream",
     "text": [
      "[1 2 3 4]\n",
      "this is the 2 array\n",
      "[[1 2 4]\n",
      " [1 2 3]]\n"
     ]
    }
   ],
   "source": [
    "import numpy as np \n",
    "arr_1d=np.array([1,2,3,4])\n",
    "print(arr_1d)\n",
    "print(\"this is the 2 array\")\n",
    "arr_2d=np.array([[1,2,4],[1,2,3]])\n",
    "print(arr_2d)"
   ]
  },
  {
   "cell_type": "code",
   "execution_count": 5,
   "id": "6c220c3d",
   "metadata": {},
   "outputs": [
    {
     "name": "stdout",
     "output_type": "stream",
     "text": [
      "multiplication: [1, 2, 3, 4, 4, 1, 2, 3, 4, 4]\n",
      "[246 848   8]\n"
     ]
    }
   ],
   "source": [
    "# MULTIPLICATION IN THE LIST  \n",
    "list_p=[1,2,3,4,4]\n",
    "print(\"multiplication:\",list_p*2)\n",
    "# MULTIPLICATION IN THE NUMPY ARRAY\n",
    "np_py=np.array([123,424,4])\n",
    "print(np_py*2)"
   ]
  },
  {
   "cell_type": "code",
   "execution_count": 17,
   "id": "e07a8b85",
   "metadata": {},
   "outputs": [
    {
     "name": "stdout",
     "output_type": "stream",
     "text": [
      "0.0008182525634765625\n"
     ]
    }
   ],
   "source": [
    "import time \n",
    "start=time.time()\n",
    "play=[i*2 for i in range(1000)]\n",
    "print(time.time()-start)"
   ]
  },
  {
   "cell_type": "code",
   "execution_count": 16,
   "id": "d315c196",
   "metadata": {},
   "outputs": [
    {
     "name": "stdout",
     "output_type": "stream",
     "text": [
      "0.0005028247833251953\n"
     ]
    }
   ],
   "source": [
    "import time \n",
    "start=time.time()\n",
    "np_array=np.arange(10000)*2\n",
    "print(time.time()-start)    "
   ]
  },
  {
   "cell_type": "code",
   "execution_count": 2,
   "id": "f08f4e0e",
   "metadata": {},
   "outputs": [
    {
     "name": "stdout",
     "output_type": "stream",
     "text": [
      "[[0. 0. 0. 0.]\n",
      " [0. 0. 0. 0.]\n",
      " [0. 0. 0. 0.]]\n"
     ]
    }
   ],
   "source": [
    "import numpy as np\n",
    "np_array=np.zeros((3,4))\n",
    "print(np_array)"
   ]
  },
  {
   "cell_type": "code",
   "execution_count": 3,
   "id": "02817bcd",
   "metadata": {},
   "outputs": [
    {
     "name": "stdout",
     "output_type": "stream",
     "text": [
      "[[1. 1. 1. 1. 1.]\n",
      " [1. 1. 1. 1. 1.]\n",
      " [1. 1. 1. 1. 1.]\n",
      " [1. 1. 1. 1. 1.]]\n"
     ]
    }
   ],
   "source": [
    "import numpy as np\n",
    "np_array=np.ones((4,5))\n",
    "print(np_array)"
   ]
  },
  {
   "cell_type": "code",
   "execution_count": 5,
   "id": "70a118ae",
   "metadata": {},
   "outputs": [
    {
     "name": "stdout",
     "output_type": "stream",
     "text": [
      "[[7 7 7 7]\n",
      " [7 7 7 7]\n",
      " [7 7 7 7]]\n"
     ]
    }
   ],
   "source": [
    "import numpy as np\n",
    "np_full=np.full((3,4),7)\n",
    "print(np_full)"
   ]
  },
  {
   "cell_type": "code",
   "execution_count": 5,
   "id": "a3863a2d",
   "metadata": {},
   "outputs": [
    {
     "name": "stdout",
     "output_type": "stream",
     "text": [
      "[[1 2 3]\n",
      " [1 2 3]]\n",
      "(2, 3)\n"
     ]
    }
   ],
   "source": [
    "import numpy as np\n",
    "np_array=np.array([[1,2,3],[1,2,3]])\n",
    "print(np_array)\n",
    "print(np_array.shape)"
   ]
  },
  {
   "cell_type": "markdown",
   "id": "a531be79",
   "metadata": {},
   "source": [
    "# the vector , matrix and tensor"
   ]
  },
  {
   "cell_type": "markdown",
   "id": "66015cb0",
   "metadata": {},
   "source": [
    "vector:   #1 d array is consider as veector because its a single line \n",
    "       The list is we can call its a vector   \n",
    "       what i mean to say is numpy\n",
    "    import numpy as np \n",
    "    np_array=np.array([1,2,3])\n",
    "    these are the vector and have 3 element"
   ]
  },
  {
   "cell_type": "code",
   "execution_count": null,
   "id": "a01870f4",
   "metadata": {},
   "outputs": [
    {
     "name": "stdout",
     "output_type": "stream",
     "text": [
      "[1 2 3]\n",
      "(3,)\n"
     ]
    }
   ],
   "source": [
    "# vector \n",
    "import numpy as np\n",
    "np_array=np.array([1,2,3])# in this as u can see have only the list that total element in the list is the shape (3,) the 3 is the single line quanttity of the array\n",
    "print(np_array)\n",
    "print(np_array.shape)"
   ]
  },
  {
   "cell_type": "markdown",
   "id": "f7dd88bd",
   "metadata": {},
   "source": [
    "matrix : so basically its 2 d array number arranged with having rows and columns as the row is each [] and the coloum would be the element in it is the coloum\n",
    "these are the matrix that written as row and coloumn and have in terms as ([[1,2,3],[2,3,4]])\n",
    "([[],[]])"
   ]
  },
  {
   "cell_type": "code",
   "execution_count": null,
   "id": "02c14e6e",
   "metadata": {},
   "outputs": [],
   "source": [
    "# matric \n",
    "import numpy as np\n",
    "np_array=np.array([[1,2,3],[1,2,3]])\n",
    "print(np_array)\n",
    "print(np)"
   ]
  },
  {
   "cell_type": "markdown",
   "id": "5897263b",
   "metadata": {},
   "source": [
    "tensor: with n number of array its have n number of dimension mean more than rows and coloumns and wriiten generally 2 or more  matrix  together "
   ]
  },
  {
   "cell_type": "code",
   "execution_count": 12,
   "id": "f586505c",
   "metadata": {},
   "outputs": [
    {
     "name": "stdout",
     "output_type": "stream",
     "text": [
      "[[[1 2 3]\n",
      "  [1 2 3]]\n",
      "\n",
      " [[1 2 3]\n",
      "  [1 2 3]]]\n"
     ]
    }
   ],
   "source": [
    "import numpy as np \n",
    "np_array=np.array([[[1,2,3],[1,2,3]],[[1,2,3],[1,2,3]]])\n",
    "print(np_array)\n",
    "# print(np_array.shape)"
   ]
  },
  {
   "cell_type": "markdown",
   "id": "7b697790",
   "metadata": {},
   "source": [
    "PROPERTIES OF THE ARRAY :\n",
    "                        i am listing the important properties of the numpy array\n",
    "0.shape\n",
    "1.reshaped\n",
    "2.Size\n",
    "3.reveled\n",
    "4.dimension\n",
    "5.flattened\n",
    "6.datatype"
   ]
  },
  {
   "cell_type": "code",
   "execution_count": null,
   "id": "14d981d6",
   "metadata": {},
   "outputs": [
    {
     "name": "stdout",
     "output_type": "stream",
     "text": [
      "shape: (2, 3)\n"
     ]
    }
   ],
   "source": [
    "# shape properties:\n",
    "                # this function used for to know the shape of the array what is that \n",
    "                # how many are layers,rows and coloumns are there\n",
    "import numpy as np\n",
    "arr=np.array([[1,2,3],[2,3,4]])\n",
    "print(\"shape:\",arr.shape)"
   ]
  },
  {
   "cell_type": "code",
   "execution_count": null,
   "id": "216bea11",
   "metadata": {},
   "outputs": [],
   "source": [
    "# reshape properties: \n",
    "                    # this function is used for the reshaping of the array from 1 d to 2 d"
   ]
  },
  {
   "cell_type": "code",
   "execution_count": null,
   "id": "579232d4",
   "metadata": {},
   "outputs": [
    {
     "name": "stdout",
     "output_type": "stream",
     "text": [
      "[[[1 2 3]\n",
      "  [4 5 6]]]\n"
     ]
    }
   ],
   "source": [
    "import numpy as np\n",
    "arr=np.array([[1,2,3],[4,5,6]])\n",
    "reshaped=arr.reshape(1,2,3)\n",
    "print(reshaped)"
   ]
  },
  {
   "cell_type": "code",
   "execution_count": null,
   "id": "ed3d2ea9",
   "metadata": {},
   "outputs": [
    {
     "name": "stdout",
     "output_type": "stream",
     "text": [
      "[[1 1]\n",
      " [2 2]\n",
      " [3 3]]\n"
     ]
    }
   ],
   "source": [
    "# tranpose properties:\n",
    "import numpy as np\n",
    "trans=arr.T\n",
    "print(trans)"
   ]
  },
  {
   "cell_type": "markdown",
   "id": "c11e95d9",
   "metadata": {},
   "source": [
    "NOW WE DO THE RESIZE AND RESHAPE  OF THE ARRAY :\n",
    "RESIZE:\n",
    "In this we change the size of the whole array \n",
    "example: so if the main array =arr\n",
    "then whole arr will be resize \n",
    "RESHAPE:\n",
    "In this we first stored the copy of the array then change the shape we actually dont change the actuall arr just first make a variable where we can store the copy then rehsape"
   ]
  },
  {
   "cell_type": "code",
   "execution_count": null,
   "id": "c1ca8973",
   "metadata": {},
   "outputs": [
    {
     "name": "stdout",
     "output_type": "stream",
     "text": [
      "[[37 22 33 31 14]\n",
      " [17 32 50 36 25]\n",
      " [45  5  9 34 32]]\n"
     ]
    }
   ],
   "source": [
    "#RESIZE:\n",
    "import numpy as np\n",
    "arr=np.random.randint(1,51,size=(4,5))\n",
    "# here we actually changing the array size\n",
    "arr.resize(3,5)\n",
    "print(arr)"
   ]
  },
  {
   "cell_type": "code",
   "execution_count": null,
   "id": "a83f0329",
   "metadata": {},
   "outputs": [],
   "source": [
    "#RESHAPED:\n",
    "import numpy as np \n",
    "arr=np.random.randint(1,51,size=(5,4))\n",
    "arr_reshaped=arr.reshape(2,10)\n",
    "print(arr_reshaped)"
   ]
  },
  {
   "cell_type": "markdown",
   "id": "23c11f60",
   "metadata": {},
   "source": [
    "NUMPY ARRAY SLICING 1D, 2D and 3D"
   ]
  },
  {
   "cell_type": "markdown",
   "id": "1a2da8a7",
   "metadata": {},
   "source": [
    "1D ARRAY SLICING : little bit different used  (::)\n"
   ]
  },
  {
   "cell_type": "code",
   "execution_count": null,
   "id": "49d63c03",
   "metadata": {},
   "outputs": [
    {
     "name": "stdout",
     "output_type": "stream",
     "text": [
      "[2 4 6]\n"
     ]
    }
   ],
   "source": [
    "#  1D ARRAY INDEXING  SLICING \n",
    "import numpy as np\n",
    "arr=np.array([1,2,3,4,5,6,7,8,9])\n",
    "print(arr[1:6:2]) # use the : for the slicing "
   ]
  },
  {
   "cell_type": "markdown",
   "id": "cac95af3",
   "metadata": {},
   "source": [
    "2D ARRAY SLICING: JUST minnor differnce in this is instead for (::) use the (,,)"
   ]
  },
  {
   "cell_type": "markdown",
   "id": "24eea129",
   "metadata": {},
   "source": [
    "\n",
    "Numpy array slicing : method for\n",
    "1:acessing the specific element \n",
    "2:acessing all the rows but specific columns\n",
    "3:accesing a particular rows\n"
   ]
  },
  {
   "cell_type": "code",
   "execution_count": null,
   "id": "39dd3e4b",
   "metadata": {},
   "outputs": [
    {
     "name": "stdout",
     "output_type": "stream",
     "text": [
      "4\n",
      "[23  3]\n",
      "[2 3 4]\n"
     ]
    }
   ],
   "source": [
    "import numpy as np\n",
    "arr=np.array([[1,23,4],[2,3,4]])\n",
    "# This is for the specific element acessing \n",
    "print(arr[1,2])\n",
    "#  This is for the specifc columns and every rows \n",
    "print(arr[:,1])\n",
    "#  this is for the for the specific  rows acessing and in the  specific rows all coloumns\n",
    "\n",
    "print(arr[:,[1,2]]) # used for two coloumn \n",
    "print(arr[1])# targeting whole row of [1] place array start  [2,3,4]is the matrix"
   ]
  },
  {
   "cell_type": "markdown",
   "id": "f10d3dbc",
   "metadata": {},
   "source": [
    "SORTING OF ARRAY:\n",
    "1D AND 2D ARRAY is little bit differernt  \n",
    "INTEX:\n",
    "print(np.sort(use the name of the array u wanna sort))"
   ]
  },
  {
   "cell_type": "markdown",
   "id": "3abd0064",
   "metadata": {},
   "source": [
    "1D ARRAY SORTING:\n",
    "in this 1d array the sorting is quite simple as compared to 2 d array\n",
    "INTEX:print(np.sort())"
   ]
  },
  {
   "cell_type": "code",
   "execution_count": 3,
   "id": "bd244192",
   "metadata": {},
   "outputs": [
    {
     "name": "stdout",
     "output_type": "stream",
     "text": [
      "so 1D sorting is simple\n",
      " [   1   25   53  532  673 2334 5662 6433]\n"
     ]
    }
   ],
   "source": [
    "import numpy as np\n",
    "arr_1D=np.array([1,2334,53,532,5662,673,6433,25])\n",
    "#This is quite easy \n",
    "print(\"so 1D sorting is simple\\n\",np.sort(arr_1D))"
   ]
  },
  {
   "cell_type": "markdown",
   "id": "9e6b8932",
   "metadata": {},
   "source": [
    "2D ARRAY SORTING:\n",
    "In this everything is same u just have to add the axis\n",
    "axis=0 used for the sorting of the coloumns [12,3,4,52,42,42,2]\n",
    "                                            [112,2,3,4,55,667,2]\n",
    "                                            [1,2,3,4,5,5,6]\n",
    "                                            NOW AFTER SORTING\n",
    "                                            [1,2,3,4,5,5,6]\n",
    "                                            [12,2,3,4,55,11]\n",
    "axis=1 used for the sorting of the rows[12,3,24,2,1,0] = after sorting[0,1,2,3,12,24] in the all the rows it will become sort\n"
   ]
  },
  {
   "cell_type": "code",
   "execution_count": 5,
   "id": "27bda2ad",
   "metadata": {},
   "outputs": [
    {
     "name": "stdout",
     "output_type": "stream",
     "text": [
      "COLOUMN BY COLOUMN [[23 45 24]\n",
      " [27 53 50]]\n",
      "ROW BY ROW SORTING  [[27 50 53]\n",
      " [23 24 45]]\n"
     ]
    }
   ],
   "source": [
    "# SORTING :  \n",
    "# axis=0 : for column by coloumn sorting \n",
    "import numpy as np \n",
    "arr=np.array([[27,53,50],[23,45,24]])\n",
    "print(\"COLOUMN BY COLOUMN\",np.sort(arr,axis=0))\n",
    "#axis=1 for the row sorting \n",
    "print(\"ROW BY ROW SORTING \",np.sort(arr,axis=1))"
   ]
  },
  {
   "cell_type": "markdown",
   "id": "565d293b",
   "metadata": {},
   "source": [
    "FILTERING NUMBER : selecting the value or filtering values only when the expression  match or true  if the expression is not right filtering the value "
   ]
  },
  {
   "cell_type": "code",
   "execution_count": 9,
   "id": "109be507",
   "metadata": {},
   "outputs": [
    {
     "name": "stdout",
     "output_type": "stream",
     "text": [
      "[ 24 134  52]\n"
     ]
    }
   ],
   "source": [
    "# FILTERING NUMBER \n",
    "import numpy as np \n",
    "number=np.array([[1,233,31,24],[134,27,17,52]])\n",
    "filtering_number=number[number%2==0]\n",
    "print(filtering_number)"
   ]
  },
  {
   "cell_type": "markdown",
   "id": "46ce0c27",
   "metadata": {},
   "source": [
    "MASK Filtering : this store the expresssion value in it like a variable that are greater then 2 and less than 10\n"
   ]
  },
  {
   "cell_type": "code",
   "execution_count": null,
   "id": "836943d0",
   "metadata": {},
   "outputs": [
    {
     "name": "stdout",
     "output_type": "stream",
     "text": [
      "[[  1 233  31  24]\n",
      " [134  27  17  52]]\n"
     ]
    }
   ],
   "source": [
    "\n",
    "mask=number>5\n",
    "print(number)"
   ]
  },
  {
   "cell_type": "markdown",
   "id": "2bc1f4a8",
   "metadata": {},
   "source": [
    "WHERE : that funciton is used for the asking of that is present\n",
    "NP.WHERE vs filtering masking"
   ]
  },
  {
   "cell_type": "code",
   "execution_count": null,
   "id": "6bfd73de",
   "metadata": {},
   "outputs": [
    {
     "name": "stdout",
     "output_type": "stream",
     "text": [
      "[2 3 5]\n",
      "(array([0]), array([6]))\n"
     ]
    }
   ],
   "source": [
    "import numpy as np\n",
    "number=np.array([1,2,3,5,4,4,324])\n",
    "indexing=[1,2,3]\n",
    "arr_2d=number[indexing]\n",
    "print(arr_2d)\n",
    "where_item=np.where([number>5])\n",
    "print(where_item)"
   ]
  },
  {
   "cell_type": "markdown",
   "id": "4bdf24eb",
   "metadata": {},
   "source": [
    "NP.where(condtion,x ,y)\n",
    "x used if the condition is true do this\n",
    "y for false "
   ]
  },
  {
   "cell_type": "code",
   "execution_count": null,
   "id": "727e9fab",
   "metadata": {},
   "outputs": [
    {
     "name": "stdout",
     "output_type": "stream",
     "text": [
      "[[ 2 34  4]\n",
      " [ 4  4  2]]\n",
      "[[ 1  2 68  4]\n",
      " [46  4  4  2]]\n"
     ]
    }
   ],
   "source": [
    "#2d array doing the filtering and np.where and using some acessing\n",
    "import numpy as np\n",
    "arr=np.array([[1,2,34,4],[23,4,4,2]])\n",
    "indexings=[1,2,3] \n",
    "print(arr[:,indexings]) # [:,indexing] is thiws for the rows acess\n",
    "arr2=np.where(arr>10,arr*2,arr)\n",
    "print(arr2)"
   ]
  },
  {
   "cell_type": "markdown",
   "id": "60801e3a",
   "metadata": {},
   "source": [
    "ADDITION AND REMOVE :\n",
    "new_Array=np.append(array_name,element)\n"
   ]
  },
  {
   "cell_type": "markdown",
   "id": "65db23e6",
   "metadata": {},
   "source": [
    "CONCATINATION ARRAY: addition of two array\n",
    "1.(in this compatability is required for the concatenation so the array must be same dimennsion 2d then the adding also 2d.)\n",
    "2.combined=np.concatenate((arr1,arr2)) in this new array is made and stored the concatenation of array1 and array2 both "
   ]
  },
  {
   "cell_type": "code",
   "execution_count": null,
   "id": "692fb165",
   "metadata": {},
   "outputs": [
    {
     "name": "stdout",
     "output_type": "stream",
     "text": [
      "[ 2  3  4  4 23 34  3  4]\n"
     ]
    }
   ],
   "source": [
    "import numpy as np\n",
    "arr=np.array([2,3,4,4])\n",
    "arr2=np.array([23,34,3,4])\n",
    "combined=np.concatenate((arr,arr2))\n",
    "print(combined)"
   ]
  },
  {
   "cell_type": "code",
   "execution_count": null,
   "id": "2df4a16f",
   "metadata": {},
   "outputs": [],
   "source": []
  },
  {
   "cell_type": "markdown",
   "id": "efc5e281",
   "metadata": {},
   "source": [
    "ADDITION"
   ]
  },
  {
   "cell_type": "markdown",
   "id": "46c84a0d",
   "metadata": {},
   "source": [
    "DONT ADD DIRECTLY BUT CAN STORE THAT IN A NEW ARRAY np.append\n"
   ]
  },
  {
   "cell_type": "code",
   "execution_count": 13,
   "id": "c7ec5fb8",
   "metadata": {},
   "outputs": [
    {
     "name": "stdout",
     "output_type": "stream",
     "text": [
      "[12 32 43  6  3]\n"
     ]
    }
   ],
   "source": [
    "import numpy as np\n",
    "arr=np.array([12,32,43])\n",
    "arr3=np.append(arr,[6,3])\n",
    "print(arr3)"
   ]
  },
  {
   "cell_type": "markdown",
   "id": "32b1830f",
   "metadata": {},
   "source": [
    "ARRAY COMPATIBILITY :\n",
    "use this function for checking is the shape  are equally compatible or not  just use the .shape \n"
   ]
  },
  {
   "cell_type": "code",
   "execution_count": 4,
   "id": "ce53bb6c",
   "metadata": {},
   "outputs": [
    {
     "name": "stdout",
     "output_type": "stream",
     "text": [
      "True\n",
      "True\n"
     ]
    }
   ],
   "source": [
    "import numpy as np\n",
    "a=np.array([1,2,3])\n",
    "b=np.array([1,2,3])\n",
    "c=np.array([1,2,2])\n",
    "print(a.shape==b.shape)\n",
    "print(b.shape==c.shape)"
   ]
  },
  {
   "cell_type": "markdown",
   "id": "161f938c",
   "metadata": {},
   "source": [
    "V STACK: use this a vertical stack and use for the vertical that said for the rows \n",
    "H STACK: use for the horizontal coloum save only  "
   ]
  },
  {
   "cell_type": "code",
   "execution_count": 1,
   "id": "4b0f4e92",
   "metadata": {},
   "outputs": [
    {
     "name": "stdout",
     "output_type": "stream",
     "text": [
      "[[ 1  2  3  4  4]\n",
      " [23 24  2  3  3]\n",
      " [ 1  2  3  4  4]]\n"
     ]
    }
   ],
   "source": [
    "import numpy as np\n",
    "arr=np.array([[1,2,3,4,4],[23,24,2,3,3]])\n",
    "row_to_be_store=np.array([1,2,3,4,4])\n",
    "new_store_array=np.vstack((arr,row_to_be_store))\n",
    "print(new_store_array)\n"
   ]
  }
 ],
 "metadata": {
  "kernelspec": {
   "display_name": ".venv (3.13.7)",
   "language": "python",
   "name": "python3"
  },
  "language_info": {
   "codemirror_mode": {
    "name": "ipython",
    "version": 3
   },
   "file_extension": ".py",
   "mimetype": "text/x-python",
   "name": "python",
   "nbconvert_exporter": "python",
   "pygments_lexer": "ipython3",
   "version": "3.13.7"
  }
 },
 "nbformat": 4,
 "nbformat_minor": 5
}
